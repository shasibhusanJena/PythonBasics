import pandas as pd


data_frame = pd.read_csv('C:/workspace_python_basic/PythonBasics/analysis/file.csv',sep='\t',header =1)


#displaying first five rows
display(data_frame.head())

#displaying last five rows
display(data_frame.tail())

data_frame.info()


data_frame.describe()

data_frame.isnull( )


data_frame.isnull().sum()

data_frame = data_frame.dropna()